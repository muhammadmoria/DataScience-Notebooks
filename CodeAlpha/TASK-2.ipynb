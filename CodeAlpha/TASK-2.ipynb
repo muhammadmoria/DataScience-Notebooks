{
 "cells": [
  {
   "cell_type": "markdown",
   "id": "24b2ce21-18e8-475f-be90-4e3d53c4b550",
   "metadata": {},
   "source": [
    "# <h1 style=\"text-align: center;\">Stock Price Prediction using LSTM</h1>"
   ]
  },
  {
   "cell_type": "markdown",
   "id": "bc6fb702-4951-4c88-bcdc-286ecac3f05a",
   "metadata": {},
   "source": [
    "# <h2 style=\"text-align: center;\">Step 1: Import necessary libraries</h2>"
   ]
  },
  {
   "cell_type": "code",
   "execution_count": null,
   "id": "42eb8fa4-ede8-4daf-b34b-b76a6d4d556b",
   "metadata": {},
   "outputs": [],
   "source": [
    "import numpy as np\n",
    "import pandas as pd\n",
    "import matplotlib.pyplot as plt\n",
    "from sklearn.preprocessing import MinMaxScaler\n",
    "from tensorflow.keras.models import Sequential\n",
    "from tensorflow.keras.layers import LSTM, Dense\n",
    "import warnings\n",
    "warnings.filterwarnings(\"ignore\")"
   ]
  },
  {
   "cell_type": "markdown",
   "id": "601e8391-d922-407c-bef4-465bd4f9e9d4",
   "metadata": {},
   "source": [
    "# <h1 style=\"text-align: center;\">Step 2: Load the dataset</h1>"
   ]
  },
  {
   "cell_type": "code",
   "execution_count": null,
   "id": "8a065446-8c64-4550-b66a-0665bdcfe57f",
   "metadata": {},
   "outputs": [],
   "source": [
    "data = pd.read_csv('NFLX.csv')"
   ]
  },
  {
   "cell_type": "markdown",
   "id": "4c85d616-59ef-4d37-ba0e-cb624f306267",
   "metadata": {},
   "source": [
    "# <h1 style=\"text-align: center;\">Step 3: Data exploration and preprocessing</h1>"
   ]
  },
  {
   "cell_type": "code",
   "execution_count": null,
   "id": "92049e8d-8bde-4440-90fe-6e9e89af68b2",
   "metadata": {},
   "outputs": [],
   "source": [
    "plt.figure(figsize=(12,6))\n",
    "plt.plot(data['Close'], label='Close Price History')\n",
    "plt.title('Stock Price History')\n",
    "plt.xlabel('Time')\n",
    "plt.ylabel('Stock Price')\n",
    "plt.legend()\n",
    "plt.show()"
   ]
  },
  {
   "cell_type": "code",
   "execution_count": null,
   "id": "75dc3484-9fc0-4de5-91a7-89596c4cee45",
   "metadata": {},
   "outputs": [],
   "source": [
    "scaler = MinMaxScaler(feature_range=(0,1))\n",
    "scaled_data = scaler.fit_transform(data['Close'].values.reshape(-1,1))"
   ]
  },
  {
   "cell_type": "code",
   "execution_count": null,
   "id": "d76c55af-b47f-4c44-ae28-6b87af7090e8",
   "metadata": {},
   "outputs": [],
   "source": [
    "training_data_len = int(np.ceil(0.8 * len(scaled_data)))"
   ]
  },
  {
   "cell_type": "code",
   "execution_count": null,
   "id": "e4e70a4b-7951-4e43-8be8-c9ef286d386e",
   "metadata": {},
   "outputs": [],
   "source": [
    "train_data = scaled_data[0:int(training_data_len), :]\n",
    "x_train = []\n",
    "y_train = []\n",
    "\n",
    "for i in range(60, len(train_data)):\n",
    "    x_train.append(train_data[i-60:i, 0])\n",
    "    y_train.append(train_data[i, 0])"
   ]
  },
  {
   "cell_type": "code",
   "execution_count": null,
   "id": "74052397-aab0-46a4-92f8-115dedeadb3c",
   "metadata": {},
   "outputs": [],
   "source": [
    "x_train, y_train = np.array(x_train), np.array(y_train)\n",
    "x_train = np.reshape(x_train, (x_train.shape[0], x_train.shape[1], 1))"
   ]
  },
  {
   "cell_type": "markdown",
   "id": "7e7cea7f-f87e-4cf4-8cbd-9c25c55de98c",
   "metadata": {},
   "source": [
    "# <h1 style=\"text-align: center;\">Step 4: Build the LSTM model</h1>"
   ]
  },
  {
   "cell_type": "code",
   "execution_count": null,
   "id": "faeb13b5-606d-4af6-ac1f-5ffe1d2f37ee",
   "metadata": {},
   "outputs": [],
   "source": [
    "model = Sequential()\n",
    "model.add(LSTM(units=50, return_sequences=True, input_shape=(x_train.shape[1], 1)))\n",
    "model.add(LSTM(units=50, return_sequences=False))\n",
    "model.add(Dense(units=25))\n",
    "model.add(Dense(units=1))\n",
    "\n",
    "model.compile(optimizer='adam', loss='mean_squared_error')"
   ]
  },
  {
   "cell_type": "markdown",
   "id": "50a4b290-f8ce-4562-8406-4b52c983d740",
   "metadata": {},
   "source": [
    "# <h1 style=\"text-align: center;\">Step 5: Train the model</h1>"
   ]
  },
  {
   "cell_type": "code",
   "execution_count": null,
   "id": "ba325f37-071f-4fd6-b285-980f2227d6ce",
   "metadata": {},
   "outputs": [],
   "source": [
    "model.fit(x_train, y_train, batch_size=1, epochs=1)"
   ]
  },
  {
   "cell_type": "markdown",
   "id": "b32e9953-7a36-4836-85e5-5ef85b458da9",
   "metadata": {},
   "source": [
    "# <h1 style=\"text-align: center;\">Step 6: Create testing data and predictions</h1>"
   ]
  },
  {
   "cell_type": "code",
   "execution_count": null,
   "id": "b1a43a42-5c20-4afe-9366-d50c0bbb64c2",
   "metadata": {},
   "outputs": [],
   "source": [
    "test_data = scaled_data[training_data_len - 60:, :]\n",
    "x_test = []\n",
    "y_test = data['Close'][training_data_len:].values\n",
    "\n",
    "for i in range(60, len(test_data)):\n",
    "    x_test.append(test_data[i-60:i, 0])\n",
    "\n",
    "x_test = np.array(x_test)\n",
    "x_test = np.reshape(x_test, (x_test.shape[0], x_test.shape[1], 1))\n",
    "\n",
    "predictions = model.predict(x_test)\n",
    "predictions = scaler.inverse_transform(predictions)"
   ]
  },
  {
   "cell_type": "markdown",
   "id": "62ca83d2-94ad-4f97-b316-3c5c12b481dd",
   "metadata": {},
   "source": [
    "# <h1 style=\"text-align: center;\">Step 7: Plot the results</h1>"
   ]
  },
  {
   "cell_type": "code",
   "execution_count": null,
   "id": "034af53f-8cce-492c-aab3-0906f2e51094",
   "metadata": {},
   "outputs": [],
   "source": [
    "train = data[:training_data_len]\n",
    "valid = data[training_data_len:]\n",
    "valid['Predictions'] = predictions\n",
    "\n",
    "plt.figure(figsize=(12,6))\n",
    "plt.plot(train['Close'], label='Train Data')\n",
    "plt.plot(valid['Close'], label='Real Prices')\n",
    "plt.plot(valid['Predictions'], label='Predicted Prices')\n",
    "plt.title('Stock Price Prediction')\n",
    "plt.xlabel('Date')\n",
    "plt.ylabel('Stock Price')\n",
    "plt.legend()\n",
    "plt.show()"
   ]
  },
  {
   "cell_type": "markdown",
   "id": "cf29948c-89f1-49d0-a971-8e79c63775bd",
   "metadata": {},
   "source": [
    "# <h1 style=\"text-align: center;\">Step 8: Display Prediction Results</h1>"
   ]
  },
  {
   "cell_type": "code",
   "execution_count": 3,
   "id": "c6514e1f-4664-425b-88a0-d847a6ff446b",
   "metadata": {},
   "outputs": [
    {
     "ename": "NameError",
     "evalue": "name 'valid' is not defined",
     "output_type": "error",
     "traceback": [
      "\u001b[1;31m---------------------------------------------------------------------------\u001b[0m",
      "\u001b[1;31mNameError\u001b[0m                                 Traceback (most recent call last)",
      "Cell \u001b[1;32mIn[3], line 1\u001b[0m\n\u001b[1;32m----> 1\u001b[0m \u001b[38;5;28mprint\u001b[39m(\u001b[38;5;124m\"\u001b[39m\u001b[38;5;124mActual and Predicted Prices:\u001b[39m\u001b[38;5;130;01m\\n\u001b[39;00m\u001b[38;5;124m\"\u001b[39m, valid[[\u001b[38;5;124m'\u001b[39m\u001b[38;5;124mClose\u001b[39m\u001b[38;5;124m'\u001b[39m, \u001b[38;5;124m'\u001b[39m\u001b[38;5;124mPredictions\u001b[39m\u001b[38;5;124m'\u001b[39m]])\n",
      "\u001b[1;31mNameError\u001b[0m: name 'valid' is not defined"
     ]
    }
   ],
   "source": [
    "print(\"Actual and Predicted Prices:\\n\", valid[['Close', 'Predictions']])"
   ]
  },
  {
   "cell_type": "code",
   "execution_count": null,
   "id": "749211d1-6896-4729-868c-77eabd4cd47e",
   "metadata": {},
   "outputs": [],
   "source": []
  }
 ],
 "metadata": {
  "kernelspec": {
   "display_name": "Python 3 (ipykernel)",
   "language": "python",
   "name": "python3"
  },
  "language_info": {
   "codemirror_mode": {
    "name": "ipython",
    "version": 3
   },
   "file_extension": ".py",
   "mimetype": "text/x-python",
   "name": "python",
   "nbconvert_exporter": "python",
   "pygments_lexer": "ipython3",
   "version": "3.12.4"
  }
 },
 "nbformat": 4,
 "nbformat_minor": 5
}
